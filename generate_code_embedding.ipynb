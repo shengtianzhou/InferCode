{
 "metadata": {
  "language_info": {
   "codemirror_mode": {
    "name": "ipython",
    "version": 3
   },
   "file_extension": ".py",
   "mimetype": "text/x-python",
   "name": "python",
   "nbconvert_exporter": "python",
   "pygments_lexer": "ipython3",
   "version": "3.8.5"
  },
  "orig_nbformat": 2,
  "kernelspec": {
   "name": "python385jvsc74a57bd0dd7276da505e97266161a797b95775da2a9bf2bc5ab82b43772a2fec0db2adf7",
   "display_name": "Python 3.8.5 64-bit ('base': conda)"
  },
  "metadata": {
   "interpreter": {
    "hash": "dd7276da505e97266161a797b95775da2a9bf2bc5ab82b43772a2fec0db2adf7"
   }
  }
 },
 "nbformat": 4,
 "nbformat_minor": 2,
 "cells": [
  {
   "cell_type": "code",
   "execution_count": 1,
   "metadata": {},
   "outputs": [],
   "source": [
    "import inference.InferCode_Inference as II\n",
    "import numpy as np"
   ]
  },
  {
   "cell_type": "code",
   "execution_count": 4,
   "metadata": {},
   "outputs": [],
   "source": [
    "token_dict_path = \"/home/stanley/Desktop/dictionaries/v2_dic/token2id.json\"\n",
    "type_dict_path = \"/home/stanley/Desktop/dictionaries/v2_dic/type2id.json\"\n",
    "model_weight_path = \"/home/stanley/Desktop/SSPTM-neg_v1/epoch_49.pkl\"\n",
    "subtree_count = 633916 # 633916 for the SS-PTM v2\n",
    "dimension = 64"
   ]
  },
  {
   "cell_type": "code",
   "execution_count": 8,
   "metadata": {},
   "outputs": [
    {
     "output_type": "stream",
     "name": "stdout",
     "text": [
      "[ 0.3185978  -0.53711134 -0.12618479  0.10578291 -0.11269993  0.5532812\n -0.22718823  0.02048118  0.36222756 -0.2698203  -0.33920503 -0.42547953\n  0.06026779 -0.07384239 -0.24196613 -0.50448024  0.24198061  0.55428344\n -0.11810884  0.15238923 -0.34306163 -0.5122974  -0.03615738 -0.32966185\n  0.03242743  0.03968005 -0.624177   -0.5034782  -0.55963176 -0.28690583\n  0.43697965 -0.08055415  0.11324657 -0.5295284   0.5213631  -0.5117852\n -0.633814   -0.6521123   0.00351543 -0.5745644  -0.37533647 -0.19849077\n -0.48521346 -0.49588162  0.5998723  -0.08498771 -0.1103601  -0.05901951\n  0.4775563  -0.44514245 -0.18270361  0.34514093  0.17567518  0.3333807\n -0.3938012   0.12659657  0.02930845  0.18657446  0.42546493  0.10743849\n  0.17445517  0.36337292  0.5400997   0.31379908]\ndistance between function 1 and 2 0.33162108\ndistance between function 1 and 3 0.7513387\ndistance between function 2 and 3 0.56603813\n"
     ]
    }
   ],
   "source": [
    "model2 = II.InferCode_Inference(model_weight_path, token_dict_path, type_dict_path, subtree_count, dimension)\n",
    "code1 = \"/home/stanley/Desktop/code1.xml\"\n",
    "code2 = \"/home/stanley/Desktop/code2.xml\"\n",
    "code3 = \"/home/stanley/Desktop/code3.xml\"\n",
    "\n",
    "def distance(vec1, vec2):\n",
    "    return np.linalg.norm(vec1-vec2)\n",
    "\n",
    "def cos(x, y):\n",
    "    return np.dot(x,y) / (np.sqrt(np.dot(x,x)) * np.sqrt(np.dot(y,y)))\n",
    "\n",
    "def dot(x, y):\n",
    "    return np.dot(x, y)\n",
    "\n",
    "vec_1 = model2.code2vec(code1)\n",
    "vec_2 = model2.code2vec(code2)\n",
    "vec_3 = model2.code2vec(code3)\n",
    "\n",
    "d12 = distance(vec_1, vec_2)\n",
    "d13 = distance(vec_1, vec_3)\n",
    "d23 = distance(vec_2, vec_3)\n",
    "\n",
    "print(vec_3)\n",
    "\n",
    "print(\"distance between function 1 and 2\", d12)\n",
    "print(\"distance between function 1 and 3\", d13)\n",
    "print(\"distance between function 2 and 3\", d23)"
   ]
  },
  {
   "cell_type": "code",
   "execution_count": null,
   "metadata": {},
   "outputs": [],
   "source": []
  }
 ]
}