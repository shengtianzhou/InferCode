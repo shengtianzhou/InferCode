{
 "metadata": {
  "language_info": {
   "codemirror_mode": {
    "name": "ipython",
    "version": 3
   },
   "file_extension": ".py",
   "mimetype": "text/x-python",
   "name": "python",
   "nbconvert_exporter": "python",
   "pygments_lexer": "ipython3",
   "version": "3.8.5"
  },
  "orig_nbformat": 2,
  "kernelspec": {
   "name": "python385jvsc74a57bd0dd7276da505e97266161a797b95775da2a9bf2bc5ab82b43772a2fec0db2adf7",
   "display_name": "Python 3.8.5 64-bit ('base': conda)"
  },
  "metadata": {
   "interpreter": {
    "hash": "dd7276da505e97266161a797b95775da2a9bf2bc5ab82b43772a2fec0db2adf7"
   }
  }
 },
 "nbformat": 4,
 "nbformat_minor": 2,
 "cells": [
  {
   "cell_type": "code",
   "execution_count": 1,
   "metadata": {},
   "outputs": [],
   "source": [
    "import data_process.self_supervised.batch_loader_v2 as batch_loader\n",
    "import data_process.self_supervised.data_reader as data_reader\n",
    "import data_process.self_supervised.label_generator as label_generator"
   ]
  },
  {
   "cell_type": "code",
   "execution_count": 2,
   "metadata": {},
   "outputs": [
    {
     "output_type": "stream",
     "name": "stderr",
     "text": [
      "Data Processing : 100%|██████████| 20705/20705 [00:56<00:00, 365.89it/s]\n",
      "Label Generation : 100%|██████████| 20705/20705 [00:21<00:00, 980.82it/s]\n",
      "Collecting Training Info : 100%|██████████| 20705/20705 [00:00<00:00, 356171.11it/s]\n",
      "Computing Node Info : 100%|██████████| 20705/20705 [00:21<00:00, 942.43it/s]\n",
      "Generate Negative Examples : 100%|██████████| 438415/438415 [00:01<00:00, 231539.65it/s]\n"
     ]
    }
   ],
   "source": [
    "token_dict_path = \"/home/stanley/Desktop/dictionaries/v2_dic/token2id.json\"\n",
    "type_dict_path = \"/home/stanley/Desktop/dictionaries/v2_dic/type2id.json\"\n",
    "subtree_count = 633916 # 633916 for the SS-PTM v2\n",
    "dimension = 64\n"
   ]
  },
  {
   "cell_type": "code",
   "execution_count": 3,
   "metadata": {},
   "outputs": [
    {
     "output_type": "stream",
     "name": "stderr",
     "text": [
      "100%|██████████| 13701/13701 [00:16<00:00, 806.95it/s] \n"
     ]
    }
   ],
   "source": [
    "import math\n",
    "from tqdm import tqdm\n",
    "all_data = []\n",
    "batch_size = 32\n",
    "for batch_idx in tqdm(range(math.ceil(bl.num_train/batch_size))):\n",
    "    all_data.append(bl.retrieve_batch(batch_idx, batch_size))"
   ]
  },
  {
   "cell_type": "code",
   "execution_count": 6,
   "metadata": {},
   "outputs": [],
   "source": [
    "batch = all_data[137]"
   ]
  },
  {
   "cell_type": "code",
   "execution_count": 9,
   "metadata": {},
   "outputs": [
    {
     "output_type": "execute_result",
     "data": {
      "text/plain": [
       "[]"
      ]
     },
     "metadata": {},
     "execution_count": 9
    }
   ],
   "source": [
    "# 0-batched_window_node_type, \n",
    "# 1-batched_window_node_token, \n",
    "# 2-batched_window_node_indices, \n",
    "# 3-batched_window_eta_t, \n",
    "# 4-batched_window_eta_l, \n",
    "# 5-batched_window_eta_r, \n",
    "# 6-batched_tree_node_indices, \n",
    "# 7-batched_tree_indices, \n",
    "# 8-batched_pn_indices, \n",
    "# 9-batched_labels\n",
    "\n",
    "# wrong! batch[7] should be 0,0,0....1,1,1,...2,2,2,.... but its 0...1...3...\n",
    "batch[7]\n",
    "# start = start_index = 137 * batch_size\n",
    "# end = start_index + batch_size\n",
    "# len(bl.tree_mask_index)"
   ]
  },
  {
   "cell_type": "code",
   "execution_count": null,
   "metadata": {},
   "outputs": [],
   "source": []
  }
 ]
}