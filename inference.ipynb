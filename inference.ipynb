{
 "metadata": {
  "language_info": {
   "codemirror_mode": {
    "name": "ipython",
    "version": 3
   },
   "file_extension": ".py",
   "mimetype": "text/x-python",
   "name": "python",
   "nbconvert_exporter": "python",
   "pygments_lexer": "ipython3",
   "version": "3.8.5"
  },
  "orig_nbformat": 2,
  "kernelspec": {
   "name": "python385jvsc74a57bd0dd7276da505e97266161a797b95775da2a9bf2bc5ab82b43772a2fec0db2adf7",
   "display_name": "Python 3.8.5 64-bit ('base': conda)"
  },
  "metadata": {
   "interpreter": {
    "hash": "dd7276da505e97266161a797b95775da2a9bf2bc5ab82b43772a2fec0db2adf7"
   }
  }
 },
 "nbformat": 4,
 "nbformat_minor": 2,
 "cells": [
  {
   "cell_type": "code",
   "execution_count": 1,
   "metadata": {},
   "outputs": [],
   "source": [
    "import inference.InferCode_Inference as II\n",
    "import data_process.self_supervised.data_reader as data_reader\n",
    "import xml.etree.ElementTree as ET\n",
    "import numpy as np\n",
    "import time\n",
    "import tqdm\n",
    "import copy\n",
    "import math\n",
    "\n",
    "token_dict_path = \"/home/stanley/Desktop/dictionaries/v2_dic/token2id.json\"\n",
    "type_dict_path = \"/home/stanley/Desktop/dictionaries/v2_dic/type2id.json\"\n",
    "subtree_count = 633916 # 633916 for the SS-PTM v2\n",
    "dimension = 64\n",
    "\n",
    "# code examples to get code vector\n",
    "file_path = \"/home/stanley/Desktop/test_20k\"\n",
    "# file_path = \"/home/stanley/Desktop/test_dataset_100k\""
   ]
  },
  {
   "cell_type": "code",
   "execution_count": 15,
   "metadata": {},
   "outputs": [],
   "source": [
    "\n",
    "# construct a tree that has 'percentage(e.g., 0.1 or 10%)' less number of nodes\n",
    "def reduce(tree, percentage):\n",
    "    reduced_tree = copy.deepcopy(tree)\n",
    "    node_count = len(reduced_tree.getroot().findall(\".//*\"))\n",
    "    threshold = math.ceil(node_count * percentage)\n",
    "    delete_e = []\n",
    "    difference = node_count\n",
    "\n",
    "    for e in reduced_tree.iter():\n",
    "        num_child = len(e.findall(\".//*\"))\n",
    "        if abs(num_child - threshold) < difference :\n",
    "            delete_e = e\n",
    "            difference = abs(num_child - threshold)\n",
    "    delete_e.clear()\n",
    "    delete_e.tag = \"unknown_type\"\n",
    "    delete_e.text = \"unknown_token\"\n",
    "\n",
    "    #return 1.0 - len(reduced_tree.getroot().findall(\".//*\"))/node_count\n",
    "    return reduced_tree\n"
   ]
  },
  {
   "cell_type": "code",
   "execution_count": 16,
   "metadata": {},
   "outputs": [
    {
     "output_type": "stream",
     "name": "stderr",
     "text": [
      "Data Processing : 100%|██████████| 20705/20705 [00:55<00:00, 375.34it/s]\n"
     ]
    }
   ],
   "source": [
    "dataset = data_reader.Data_Reader(file_path).processed_dataset"
   ]
  },
  {
   "cell_type": "code",
   "execution_count": 17,
   "metadata": {},
   "outputs": [],
   "source": [
    "def collect_file_paths(path):\n",
    "        '''\n",
    "        collect individual xml file path and return those as a list\n",
    "        '''\n",
    "        file_paths = []\n",
    "        for root, directories, filenames in os.walk(path):\n",
    "            for filename in filenames:\n",
    "                file_paths.append(os.path.join(root,filename))\n",
    "        return file_paths\n",
    "\n",
    "def get_node_count(tree):\n",
    "    return len(tree.getroot().findall(\".//*\"))"
   ]
  },
  {
   "cell_type": "code",
   "execution_count": 18,
   "metadata": {},
   "outputs": [
    {
     "output_type": "stream",
     "name": "stderr",
     "text": [
      "20705it [02:08, 160.69it/s]\n"
     ]
    }
   ],
   "source": [
    "paths = collect_file_paths(file_path)\n",
    "full_tree = []\n",
    "tree_10 = []\n",
    "tree_30 = []\n",
    "\n",
    "len_full = [] # the number of nodes for each original tree\n",
    "len_10 = [] # the number of nodes for each tree with 10% less nodes\n",
    "len_30 = [] # the number of nodes for each tree with 30% less nodes\n",
    "\n",
    "for idx, path in tqdm.tqdm(enumerate(paths)):\n",
    "    original_tree = ET.parse(path)\n",
    "    full_tree.append(copy.deepcopy(original_tree))\n",
    "    tree_10.append(reduce(original_tree, 0.1))\n",
    "    tree_30.append(reduce(original_tree, 0.3))\n",
    "    len_full.append(get_node_count(original_tree))\n",
    "    len_10.append(len(tree_10[idx].getroot().findall(\".//*\")))\n",
    "    len_30.append(len(tree_30[idx].getroot().findall(\".//*\")))"
   ]
  },
  {
   "cell_type": "code",
   "execution_count": 33,
   "metadata": {},
   "outputs": [
    {
     "output_type": "stream",
     "name": "stderr",
     "text": [
      "20705it [06:58, 49.53it/s]\n",
      "/home/stanley/Desktop/one_model/epoch_49.pkl  has accuracy : 0.80574456218628  The total number is  17930\n",
      "average difference for negative pairs 0.18458842525254043\n",
      "20705it [06:28, 53.35it/s]\n",
      "/home/stanley/Desktop/one_model/epoch_50.pkl  has accuracy : 0.807585052983826  The total number is  17930\n",
      "average difference for negative pairs 0.18401247672851007\n",
      "20705it [07:39, 45.05it/s]\n",
      "/home/stanley/Desktop/one_model/epoch_48.pkl  has accuracy : 0.803792526491913  The total number is  17930\n",
      "average difference for negative pairs 0.18496711345668812\n",
      "20705it [06:53, 50.07it/s]\n",
      "/home/stanley/Desktop/one_model/epoch_45.pkl  has accuracy : 0.7998884551031791  The total number is  17930\n",
      "average difference for negative pairs 0.1863617559393551\n",
      "20705it [06:26, 53.54it/s]\n",
      "/home/stanley/Desktop/one_model/epoch_46.pkl  has accuracy : 0.8034578918014501  The total number is  17930\n",
      "average difference for negative pairs 0.18656137505755804\n",
      "20705it [07:23, 46.71it/s]/home/stanley/Desktop/one_model/epoch_47.pkl  has accuracy : 0.8034021193530396  The total number is  17930\n",
      "average difference for negative pairs 0.1839058264535913\n",
      "\n"
     ]
    }
   ],
   "source": [
    "model_direct = \"/home/stanley/Desktop/one_model\"\n",
    "model_paths = collect_file_paths(model_direct)\n",
    "for model_path in model_paths:\n",
    "    inferencer = II.InferCode_Inference(model_path, token_dict_path, type_dict_path, subtree_count, dimension)\n",
    "\n",
    "    positive_count = 0\n",
    "    total = len(paths)\n",
    "    difference_threshold = 0.1 # 10%\n",
    "    negative_count = 0\n",
    "    total_diff = 0\n",
    "    for idx, path in tqdm.tqdm(enumerate(paths)):\n",
    "        \n",
    "        difference = len_10[idx]/len_full[idx] - len_30[idx]/len_full[idx]\n",
    "\n",
    "        if difference < difference_threshold: # remove examples that have a small difference in removed nummber of nodes\n",
    "            total -= 1\n",
    "        else:\n",
    "\n",
    "            code_vector = inferencer.code2vec(copy.deepcopy(full_tree[idx]), tree = True)\n",
    "            code_vector_10 = inferencer.code2vec(copy.deepcopy(tree_10[idx]), tree = True)\n",
    "            code_vector_30 = inferencer.code2vec(copy.deepcopy(tree_30[idx]), tree = True)\n",
    "            \n",
    "            # if cos(code_vector, code_vector_10) > cos(code_vector, code_vector_30):\n",
    "            if np.linalg.norm(code_vector-code_vector_10) < np.linalg.norm(code_vector-code_vector_30):\n",
    "                positive_count += 1\n",
    "            else:\n",
    "                # for the negative ones, calculate the average distance\n",
    "                negative_count += 1\n",
    "                total_diff += difference\n",
    "    print(model_path, \" has accuracy :\", positive_count / total, \" The total number is \", total)\n",
    "    print(\"average difference for negative pairs\", total_diff/negative_count)\n",
    "    # SS-PTM-v1 with momentum, epoch 59, accuracy: 88%\n",
    "    # SS-PTM-v2-pos with momentum, epoch 1, accuracy: 88.6%\n",
    "    # SS-PTM-v2 with momentum, epoch 11, accuracy: 87.1%"
   ]
  },
  {
   "cell_type": "code",
   "execution_count": 42,
   "metadata": {},
   "outputs": [
    {
     "output_type": "stream",
     "name": "stdout",
     "text": [
      "[ 1.         -0.07628536  0.9619528   1.         -0.07628536  1.\n  0.87018216 -0.8740815   0.87018216  0.87018216  1.          0.18330956\n  0.87018216 -0.07628536 -0.91525054  1.          0.16493416 -1.\n  0.99892366  0.90068054  1.          0.99892366  1.         -1.\n  0.99892366  0.19153321  1.          0.9113512   1.          0.9396781\n  1.          0.88855755  1.          0.97720635  1.          1.\n  1.          1.          1.          0.98543     0.9396781   0.87018216\n  1.          1.         -1.          0.91525054  0.98435366  1.\n  0.9950243  -0.9305041   1.          1.         -0.9113512   0.18330956\n  1.          0.07628536  1.          1.          1.          1.\n  0.97720635  0.07628536 -1.         -0.19153321]\ndistance between function 1 and 2 45.353565\ndistance between function 1 and 3 48.71519\ndistance between function 2 and 3 46.967293\n"
     ]
    }
   ],
   "source": [
    "# generate code vector examples\n",
    "model2 = II.InferCode_Inference(\"/home/stanley/Desktop/SS-PTM-v2-0.01/epoch_11.pkl\", token_dict_path, type_dict_path, subtree_count, dimension)\n",
    "bsort1 = \"/home/stanley/Desktop/code1.xml\"\n",
    "bsort2 = \"/home/stanley/Desktop/code2.xml\"\n",
    "bsort3 = \"/home/stanley/Desktop/code3.xml\"\n",
    "\n",
    "def distance(vec1, vec2):\n",
    "    return np.linalg.norm(vec1-vec2)\n",
    "\n",
    "def cos(x, y):\n",
    "    return np.dot(x,y) / (np.sqrt(np.dot(x,x)) * np.sqrt(np.dot(y,y)))\n",
    "\n",
    "def dot(x, y):\n",
    "    return np.dot(x, y)\n",
    "\n",
    "vec_1 = model2.code2vec(bsort1)\n",
    "vec_2 = model2.code2vec(bsort2)\n",
    "vec_3 = model2.code2vec(bsort3)\n",
    "\n",
    "d12 = distance(vec_1, vec_2)\n",
    "d13 = distance(vec_1, vec_3)\n",
    "d23 = distance(vec_2, vec_3)\n",
    "\n",
    "print(vec_3)\n",
    "\n",
    "print(\"distance between function 1 and 2\", d12)\n",
    "print(\"distance between function 1 and 3\", d13)\n",
    "print(\"distance between function 2 and 3\", d23)\n"
   ]
  },
  {
   "cell_type": "code",
   "execution_count": null,
   "metadata": {},
   "outputs": [],
   "source": []
  }
 ]
}