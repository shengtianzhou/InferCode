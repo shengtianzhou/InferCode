{
 "metadata": {
  "language_info": {
   "codemirror_mode": {
    "name": "ipython",
    "version": 3
   },
   "file_extension": ".py",
   "mimetype": "text/x-python",
   "name": "python",
   "nbconvert_exporter": "python",
   "pygments_lexer": "ipython3",
   "version": "3.8.5"
  },
  "orig_nbformat": 2,
  "kernelspec": {
   "name": "python385jvsc74a57bd0dd7276da505e97266161a797b95775da2a9bf2bc5ab82b43772a2fec0db2adf7",
   "display_name": "Python 3.8.5 64-bit ('base': conda)"
  },
  "metadata": {
   "interpreter": {
    "hash": "dd7276da505e97266161a797b95775da2a9bf2bc5ab82b43772a2fec0db2adf7"
   }
  }
 },
 "nbformat": 4,
 "nbformat_minor": 2,
 "cells": [
  {
   "cell_type": "code",
   "execution_count": 2,
   "metadata": {},
   "outputs": [],
   "source": [
    "import inference.InferCode_Inference as II\n",
    "import numpy as np\n",
    "import time\n",
    "\n",
    "token_dict_path = \"/home/stanley/Desktop/dictionaries/token2id.json\"\n",
    "type_dict_path = \"/home/stanley/Desktop/dictionaries/type2id.json\"\n",
    "model_weight_path = \"/home/stanley/Desktop/model_weights/epoch_25.pkl\"\n",
    "subtree_count = 635374\n",
    "dimension = 64\n",
    "\n",
    "# code examples to get code vector\n",
    "file_path = \"/home/stanley/Desktop/example_xml\"\n",
    "file_path_1 = \"/home/stanley/Desktop/1_xml\"\n",
    "file_path_10 = \"/home/stanley/Desktop/10_xml\"\n",
    "file_path_30 = \"/home/stanley/Desktop/30_xml\""
   ]
  },
  {
   "cell_type": "code",
   "execution_count": 3,
   "metadata": {},
   "outputs": [],
   "source": [
    "inferencer = II.InferCode_Inference(model_weight_path, token_dict_path, type_dict_path, subtree_count, dimension)\n",
    "\n",
    "# producing code representation for each input xml file path\n",
    "full_code_vector = inferencer.code2vec(file_path)\n",
    "code_vector_1 = inferencer.code2vec(file_path_1)\n",
    "code_vector_10 = inferencer.code2vec(file_path_10)\n",
    "code_vector_30 = inferencer.code2vec(file_path_30)\n",
    "\n",
    "def cosine_distance(a, b):\n",
    "    if a.shape != b.shape:\n",
    "        raise RuntimeError(\"array {} shape not match {}\".format(a.shape, b.shape))\n",
    "    if a.ndim==1:\n",
    "        a_norm = np.linalg.norm(a)\n",
    "        b_norm = np.linalg.norm(b)\n",
    "    elif a.ndim==2:\n",
    "        a_norm = np.linalg.norm(a, axis=1, keepdims=True)\n",
    "        b_norm = np.linalg.norm(b, axis=1, keepdims=True)\n",
    "    else:\n",
    "        raise RuntimeError(\"array dimensions {} not right\".format(a.ndim))\n",
    "    similiarity = np.dot(a, b.T)/(a_norm * b_norm) \n",
    "    dist = 1. - similiarity\n",
    "    return dist"
   ]
  },
  {
   "cell_type": "code",
   "execution_count": 4,
   "metadata": {},
   "outputs": [
    {
     "output_type": "stream",
     "name": "stdout",
     "text": [
      "The distance between 0 and 1: 0.0032261517\nThe distance between 0 and 10: 0.0076308576\nThe distance between 0 and 30: 0.028926147\nThe distance between 1 and 10: 0.004623036\nThe distance between 1 and 30: 0.025964076\n"
     ]
    }
   ],
   "source": [
    "print(\"The distance between 0 and 1:\", np.linalg.norm(full_code_vector-code_vector_1))\n",
    "print(\"The distance between 0 and 10:\", np.linalg.norm(full_code_vector-code_vector_10))\n",
    "print(\"The distance between 0 and 30:\", np.linalg.norm(full_code_vector-code_vector_30))\n",
    "print(\"The distance between 1 and 10:\", np.linalg.norm(code_vector_1-code_vector_10))\n",
    "print(\"The distance between 1 and 30:\", np.linalg.norm(code_vector_1-code_vector_30))"
   ]
  },
  {
   "cell_type": "code",
   "execution_count": null,
   "metadata": {},
   "outputs": [],
   "source": []
  }
 ]
}