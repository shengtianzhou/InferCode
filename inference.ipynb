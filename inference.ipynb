{
 "metadata": {
  "language_info": {
   "codemirror_mode": {
    "name": "ipython",
    "version": 3
   },
   "file_extension": ".py",
   "mimetype": "text/x-python",
   "name": "python",
   "nbconvert_exporter": "python",
   "pygments_lexer": "ipython3",
   "version": "3.8.5"
  },
  "orig_nbformat": 2,
  "kernelspec": {
   "name": "python385jvsc74a57bd0dd7276da505e97266161a797b95775da2a9bf2bc5ab82b43772a2fec0db2adf7",
   "display_name": "Python 3.8.5 64-bit ('base': conda)"
  },
  "metadata": {
   "interpreter": {
    "hash": "dd7276da505e97266161a797b95775da2a9bf2bc5ab82b43772a2fec0db2adf7"
   }
  }
 },
 "nbformat": 4,
 "nbformat_minor": 2,
 "cells": [
  {
   "cell_type": "code",
   "execution_count": 2,
   "metadata": {},
   "outputs": [],
   "source": [
    "import inference.InferCode_Inference as II\n",
    "import data_process.self_supervised.data_reader as data_reader\n",
    "import xml.etree.ElementTree as ET\n",
    "import numpy as np\n",
    "import time\n",
    "import tqdm\n",
    "import copy\n",
    "import math\n",
    "\n",
    "token_dict_path = \"/home/stanley/Desktop/dictionaries/v2_dic/token2id.json\"\n",
    "type_dict_path = \"/home/stanley/Desktop/dictionaries/v2_dic/type2id.json\"\n",
    "subtree_count = 633916 # 633916 for the SS-PTM v2\n",
    "dimension = 64\n",
    "\n",
    "# code examples to get code vector\n",
    "file_path = \"/home/stanley/Desktop/test_20k\"\n",
    "# file_path = \"/home/stanley/Desktop/test_dataset_100k\""
   ]
  },
  {
   "cell_type": "code",
   "execution_count": 3,
   "metadata": {},
   "outputs": [],
   "source": [
    "\n",
    "# construct a tree that has 'percentage(e.g., 0.1 or 10%)' less number of nodes\n",
    "def reduce(tree, percentage):\n",
    "    reduced_tree = copy.deepcopy(tree)\n",
    "    node_count = len(reduced_tree.getroot().findall(\".//*\"))\n",
    "    threshold = math.ceil(node_count * percentage)\n",
    "    delete_e = []\n",
    "    difference = node_count\n",
    "\n",
    "    for e in reduced_tree.iter():\n",
    "        num_child = len(e.findall(\".//*\"))\n",
    "        if abs(num_child - threshold) < difference :\n",
    "            delete_e = e\n",
    "            difference = abs(num_child - threshold)\n",
    "    delete_e.clear()\n",
    "    delete_e.tag = \"unknown_type\"\n",
    "    delete_e.text = \"unknown_token\"\n",
    "\n",
    "    #return 1.0 - len(reduced_tree.getroot().findall(\".//*\"))/node_count\n",
    "    return reduced_tree\n"
   ]
  },
  {
   "cell_type": "code",
   "execution_count": 2,
   "metadata": {},
   "outputs": [
    {
     "output_type": "stream",
     "name": "stderr",
     "text": [
      "Data Processing : 100%|██████████| 20705/20705 [00:52<00:00, 394.97it/s]\n"
     ]
    }
   ],
   "source": [
    "dataset = data_reader.Data_Reader(file_path).processed_dataset"
   ]
  },
  {
   "cell_type": "code",
   "execution_count": 4,
   "metadata": {},
   "outputs": [],
   "source": [
    "def collect_file_paths(path):\n",
    "        '''\n",
    "        collect individual xml file path and return those as a list\n",
    "        '''\n",
    "        file_paths = []\n",
    "        for root, directories, filenames in os.walk(path):\n",
    "            for filename in filenames:\n",
    "                file_paths.append(os.path.join(root,filename))\n",
    "        return file_paths\n",
    "\n",
    "def get_node_count(tree):\n",
    "    return len(tree.getroot().findall(\".//*\"))"
   ]
  },
  {
   "cell_type": "code",
   "execution_count": 5,
   "metadata": {},
   "outputs": [
    {
     "output_type": "stream",
     "name": "stderr",
     "text": [
      "20705it [02:04, 166.02it/s]\n"
     ]
    }
   ],
   "source": [
    "paths = collect_file_paths(file_path)\n",
    "full_tree = []\n",
    "tree_10 = []\n",
    "tree_30 = []\n",
    "\n",
    "len_full = [] # the number of nodes for each original tree\n",
    "len_10 = [] # the number of nodes for each tree with 10% less nodes\n",
    "len_30 = [] # the number of nodes for each tree with 30% less nodes\n",
    "\n",
    "for idx, path in tqdm.tqdm(enumerate(paths)):\n",
    "    original_tree = ET.parse(path)\n",
    "    full_tree.append(copy.deepcopy(original_tree))\n",
    "    tree_10.append(reduce(original_tree, 0.1))\n",
    "    tree_30.append(reduce(original_tree, 0.3))\n",
    "    len_full.append(get_node_count(original_tree))\n",
    "    len_10.append(len(tree_10[idx].getroot().findall(\".//*\")))\n",
    "    len_30.append(len(tree_30[idx].getroot().findall(\".//*\")))"
   ]
  },
  {
   "cell_type": "code",
   "execution_count": 13,
   "metadata": {},
   "outputs": [
    {
     "output_type": "stream",
     "name": "stderr",
     "text": [
      "20705it [07:06, 48.57it/s]\n",
      "/home/stanley/Desktop/batch_32_SS_PTM_v2/epoch_3.pkl  has accuracy : 0.8436698271054099  The total number is  17930\n",
      "average difference for negative pairs 0.18001563379638125\n",
      "20705it [06:33, 52.65it/s]\n",
      "/home/stanley/Desktop/batch_32_SS_PTM_v2/epoch_9.pkl  has accuracy : 0.8140546569994422  The total number is  17930\n",
      "average difference for negative pairs 0.18559996546153235\n",
      "20705it [06:16, 55.05it/s]\n",
      "/home/stanley/Desktop/batch_32_SS_PTM_v2/epoch_8.pkl  has accuracy : 0.8241494701617401  The total number is  17930\n",
      "average difference for negative pairs 0.17818164047995083\n",
      "20705it [06:32, 52.77it/s]\n",
      "/home/stanley/Desktop/batch_32_SS_PTM_v2/epoch_11.pkl  has accuracy : 0.7946458449525934  The total number is  17930\n",
      "average difference for negative pairs 0.18290712443291796\n",
      "20705it [07:19, 47.09it/s]\n",
      "/home/stanley/Desktop/batch_32_SS_PTM_v2/epoch_1.pkl  has accuracy : 0.8386503067484663  The total number is  17930\n",
      "average difference for negative pairs 0.17999216148102373\n",
      "20705it [06:57, 49.63it/s]\n",
      "/home/stanley/Desktop/batch_32_SS_PTM_v2/epoch_4.pkl  has accuracy : 0.8356943669827105  The total number is  17930\n",
      "average difference for negative pairs 0.18024040072705405\n",
      "20705it [06:52, 50.22it/s]\n",
      "/home/stanley/Desktop/batch_32_SS_PTM_v2/epoch_5.pkl  has accuracy : 0.8431121026213051  The total number is  17930\n",
      "average difference for negative pairs 0.19007012244765276\n",
      "20705it [07:19, 47.10it/s]\n",
      "/home/stanley/Desktop/batch_32_SS_PTM_v2/epoch_6.pkl  has accuracy : 0.8701059676519799  The total number is  17930\n",
      "average difference for negative pairs 0.18433615443641552\n",
      "20705it [06:28, 53.36it/s]\n",
      "/home/stanley/Desktop/batch_32_SS_PTM_v2/epoch_10.pkl  has accuracy : 0.8207473508087005  The total number is  17930\n",
      "average difference for negative pairs 0.1857723549402949\n",
      "20705it [06:37, 52.08it/s]\n",
      "/home/stanley/Desktop/batch_32_SS_PTM_v2/epoch_2.pkl  has accuracy : 0.8423870607919688  The total number is  17930\n",
      "average difference for negative pairs 0.18018538952596913\n",
      "20705it [06:06, 56.55it/s]\n",
      "/home/stanley/Desktop/batch_32_SS_PTM_v2/epoch_7.pkl  has accuracy : 0.8635248187395427  The total number is  17930\n",
      "average difference for negative pairs 0.17964297985864622\n",
      "20705it [07:07, 48.42it/s]/home/stanley/Desktop/batch_32_SS_PTM_v2/epoch_12.pkl  has accuracy : 0.7866146123814836  The total number is  17930\n",
      "average difference for negative pairs 0.18380265903018603\n",
      "\n"
     ]
    }
   ],
   "source": [
    "model_direct = \"/home/stanley/Desktop/batch_32_SS_PTM_v2\"\n",
    "model_paths = collect_file_paths(model_direct)\n",
    "for model_path in model_paths:\n",
    "    inferencer = II.InferCode_Inference(model_path, token_dict_path, type_dict_path, subtree_count, dimension)\n",
    "\n",
    "    positive_count = 0\n",
    "    total = len(paths)\n",
    "    difference_threshold = 0.1 # 10%\n",
    "    negative_count = 0\n",
    "    total_diff = 0\n",
    "    for idx, path in tqdm.tqdm(enumerate(paths)):\n",
    "        \n",
    "        difference = len_10[idx]/len_full[idx] - len_30[idx]/len_full[idx]\n",
    "\n",
    "        if difference < difference_threshold: # remove examples that have a small difference in removed nummber of nodes\n",
    "            total -= 1\n",
    "        else:\n",
    "\n",
    "            code_vector = inferencer.code2vec(copy.deepcopy(full_tree[idx]), tree = True)\n",
    "            code_vector_10 = inferencer.code2vec(copy.deepcopy(tree_10[idx]), tree = True)\n",
    "            code_vector_30 = inferencer.code2vec(copy.deepcopy(tree_30[idx]), tree = True)\n",
    "            \n",
    "            # if cos(code_vector, code_vector_10) > cos(code_vector, code_vector_30):\n",
    "            if np.linalg.norm(code_vector-code_vector_10) < np.linalg.norm(code_vector-code_vector_30):\n",
    "                positive_count += 1\n",
    "            else:\n",
    "                # for the negative ones, calculate the average distance\n",
    "                negative_count += 1\n",
    "                total_diff += difference\n",
    "    print(model_path, \" has accuracy :\", positive_count / total, \" The total number is \", total)\n",
    "    print(\"average difference for negative pairs\", total_diff/negative_count)\n",
    "    # SS-PTM-v1 with momentum, epoch 59, accuracy: 88%\n",
    "    # SS-PTM-v2-pos with momentum, epoch 1, accuracy: 88.6%\n",
    "    # SS-PTM-v2 with momentum, epoch 11, accuracy: 87.1%\n",
    "    # batch_32_SS_PTM_v2/epoch_6, 87%"
   ]
  },
  {
   "cell_type": "code",
   "execution_count": 4,
   "metadata": {},
   "outputs": [
    {
     "output_type": "stream",
     "name": "stdout",
     "text": [
      "[ 0.9999982   0.99998236  0.46020326  0.9999997   0.9999998   0.9999957\n -0.5291352   0.99999076  0.9999909   0.99999917  0.9999896   0.9999915\n  0.9999956   0.9996745   1.          0.99999857  0.99999034  0.99999976\n  0.99989307  0.9999901   0.99994284  0.9999986   1.          0.9982172\n  0.9998947   0.9998592   0.99999654  0.9999362   0.99998933  0.99999076\n  0.9999972   1.          0.9999859   0.9999971   0.999994    1.\n  0.99945176  0.99999803  0.9999988   0.92809904  0.9999935   0.9999959\n  0.9999914  -0.1701388   0.9999992   0.9999931   0.99938476  1.\n  0.9999988   0.9995378   1.          0.99999535  0.9999631   0.99978536\n  0.9999957   0.9999979   0.9999793   0.99999887  0.9999999   0.999998\n  0.9999999   0.999997    0.99999094  0.9999833 ]\ndistance between function 1 and 2 1.102961\ndistance between function 1 and 3 1.1660444\ndistance between function 2 and 3 1.1417463\n"
     ]
    }
   ],
   "source": [
    "# generate code vector examples\n",
    "model2 = II.InferCode_Inference(\"/home/stanley/Desktop/batch_32_SS_PTM_v2/epoch_6.pkl\", token_dict_path, type_dict_path, subtree_count, dimension)\n",
    "code1 = \"/home/stanley/Desktop/code1.xml\"\n",
    "code2 = \"/home/stanley/Desktop/code2.xml\"\n",
    "code3 = \"/home/stanley/Desktop/code3.xml\"\n",
    "\n",
    "def distance(vec1, vec2):\n",
    "    return np.linalg.norm(vec1-vec2)\n",
    "\n",
    "def cos(x, y):\n",
    "    return np.dot(x,y) / (np.sqrt(np.dot(x,x)) * np.sqrt(np.dot(y,y)))\n",
    "\n",
    "def dot(x, y):\n",
    "    return np.dot(x, y)\n",
    "\n",
    "vec_1 = model2.code2vec(code1)\n",
    "vec_2 = model2.code2vec(code2)\n",
    "vec_3 = model2.code2vec(code3)\n",
    "\n",
    "d12 = distance(vec_1, vec_2)\n",
    "d13 = distance(vec_1, vec_3)\n",
    "d23 = distance(vec_2, vec_3)\n",
    "\n",
    "print(vec_3)\n",
    "\n",
    "print(\"distance between function 1 and 2\", d12)\n",
    "print(\"distance between function 1 and 3\", d13)\n",
    "print(\"distance between function 2 and 3\", d23)\n"
   ]
  },
  {
   "cell_type": "code",
   "execution_count": null,
   "metadata": {},
   "outputs": [],
   "source": []
  }
 ]
}