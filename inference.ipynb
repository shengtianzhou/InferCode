{
 "metadata": {
  "language_info": {
   "codemirror_mode": {
    "name": "ipython",
    "version": 3
   },
   "file_extension": ".py",
   "mimetype": "text/x-python",
   "name": "python",
   "nbconvert_exporter": "python",
   "pygments_lexer": "ipython3",
   "version": "3.8.5"
  },
  "orig_nbformat": 2,
  "kernelspec": {
   "name": "python385jvsc74a57bd0dd7276da505e97266161a797b95775da2a9bf2bc5ab82b43772a2fec0db2adf7",
   "display_name": "Python 3.8.5 64-bit ('base': conda)"
  },
  "metadata": {
   "interpreter": {
    "hash": "dd7276da505e97266161a797b95775da2a9bf2bc5ab82b43772a2fec0db2adf7"
   }
  }
 },
 "nbformat": 4,
 "nbformat_minor": 2,
 "cells": [
  {
   "cell_type": "code",
   "execution_count": 4,
   "metadata": {},
   "outputs": [],
   "source": [
    "import inference.InferCode_Inference as II\n",
    "import numpy as np"
   ]
  },
  {
   "cell_type": "code",
   "execution_count": 5,
   "metadata": {},
   "outputs": [],
   "source": [
    "token_dict_path = \"/home/stanley/Desktop/dictionaries/v2_dic/token2id.json\"\n",
    "type_dict_path = \"/home/stanley/Desktop/dictionaries/v2_dic/type2id.json\"\n",
    "model_weight_path = \"/home/stanley/Desktop/SSPTM-neg_b32/epoch_195.pkl\"\n",
    "subtree_count = 633916 # 633916 for the SS-PTM v2\n",
    "dimension = 64"
   ]
  },
  {
   "cell_type": "code",
   "execution_count": 6,
   "metadata": {},
   "outputs": [
    {
     "output_type": "stream",
     "name": "stdout",
     "text": [
      "[ 0.13617839  0.02374251 -0.14572605 -0.06066333 -0.02420082 -0.02296705\n  0.0729232   0.29015905 -0.01677718  0.22036184 -0.01815416  0.04052779\n  0.1500316  -0.07652535 -0.01061239  0.14242916 -0.3730492   0.08241865\n  0.01056165 -0.16644847  0.0011563  -0.06517769 -0.15286149 -0.25213668\n  0.18728551 -0.32889804  0.03127463 -0.28492773 -0.27518106 -0.06198856\n -0.02995386  0.12236784  0.1169633  -0.04349269 -0.21577044  0.19350582\n -0.0251636  -0.07843459 -0.16529319  0.3292122  -0.06983367 -0.00603338\n  0.1579525  -0.16768846 -0.00979119 -0.00721757  0.10318622 -0.07723217\n  0.05269315 -0.11891688 -0.12174059 -0.01006532 -0.04609567 -0.13132225\n  0.18012431 -0.09879786  0.00322993  0.07635948  0.14157042 -0.00657816\n -0.03874363 -0.31196338 -0.34987223 -0.30441397]\ndistance between function 1 and 2 0.49235377\ndistance between function 1 and 3 1.2897154\ndistance between function 2 and 3 1.5146637\n"
     ]
    }
   ],
   "source": [
    "model = II.InferCode_Inference(model_weight_path, token_dict_path, type_dict_path, subtree_count, dimension)\n",
    "code1 = \"/home/stanley/Desktop/code1.xml\"\n",
    "code2 = \"/home/stanley/Desktop/code2.xml\"\n",
    "code3 = \"/home/stanley/Desktop/code3.xml\"\n",
    "\n",
    "def distance(vec1, vec2):\n",
    "    return np.linalg.norm(vec1-vec2)\n",
    "\n",
    "def cos(x, y):\n",
    "    return np.dot(x,y) / (np.sqrt(np.dot(x,x)) * np.sqrt(np.dot(y,y)))\n",
    "\n",
    "def dot(x, y):\n",
    "    return np.dot(x, y)\n",
    "\n",
    "vec_1 = model.code2vec(code1)\n",
    "vec_2 = model.code2vec(code2)\n",
    "vec_3 = model.code2vec(code3)\n",
    "\n",
    "d12 = distance(vec_1, vec_2)\n",
    "d13 = distance(vec_1, vec_3)\n",
    "d23 = distance(vec_2, vec_3)\n",
    "\n",
    "print(vec_3)\n",
    "\n",
    "print(\"distance between function 1 and 2\", d12)\n",
    "print(\"distance between function 1 and 3\", d13)\n",
    "print(\"distance between function 2 and 3\", d23)"
   ]
  }
 ]
}